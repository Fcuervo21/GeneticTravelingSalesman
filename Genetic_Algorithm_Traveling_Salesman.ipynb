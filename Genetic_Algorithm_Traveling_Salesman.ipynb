{
  "nbformat": 4,
  "nbformat_minor": 0,
  "metadata": {
    "colab": {
      "provenance": []
    },
    "kernelspec": {
      "name": "python3",
      "display_name": "Python 3"
    },
    "language_info": {
      "name": "python"
    }
  },
  "cells": [
    {
      "cell_type": "code",
      "source": [
        "import sys\n",
        "\n",
        "def travelling_salesman_solver(graph, start_city, max_cost, max_time):\n",
        "    \"\"\"\n",
        "    Solves the travelling salesman problem for a given graph, starting city, and maximum cost and time constraints.\n",
        "    Returns the shortest path, total cost, and total time taken to travel the path.\n",
        "    \"\"\"\n",
        "    cities = list(graph.keys())\n",
        "    current_city = start_city\n",
        "    path = [current_city]\n",
        "    total_cost = 0\n",
        "    total_time = 0\n",
        "\n",
        "    while len(path) < len(cities):\n",
        "        # Find the nearest city that satisfies the cost and time constraints\n",
        "        nearest_distance = sys.maxsize\n",
        "        nearest_city = None\n",
        "        \n",
        "        for city, cost, time in graph[current_city]:\n",
        "            if city not in path and cost < max_cost and (total_time + time) <= max_time and cost < nearest_distance:\n",
        "                nearest_distance = cost\n",
        "                nearest_city = city\n",
        "        # If there are no suitable cities to visit, terminate the search\n",
        "        if nearest_city is None:\n",
        "            break\n",
        "        # Visit the nearest city and update the total cost and time taken\n",
        "        path.append(nearest_city)\n",
        "        total_cost += nearest_distance\n",
        "        total_time += time\n",
        "        current_city = nearest_city\n",
        "    # If all cities have been visited, add a return trip to the starting city if it satisfies the time constraint\n",
        "    if len(path) == len(cities):\n",
        "        last_city = path[-1]\n",
        "        for city, cost, time in graph[last_city]:\n",
        "            if city == start_city and (total_time + time) <= max_time:\n",
        "                path.append(start_city)\n",
        "                total_cost += cost\n",
        "                total_time += time\n",
        "                break\n",
        "    # Return the solution\n",
        "    return path, total_cost, total_time\n",
        "\n",
        "\n"
      ],
      "metadata": {
        "id": "yuwTDJlikiuP"
      },
      "execution_count": 16,
      "outputs": []
    },
    {
      "cell_type": "code",
      "source": [
        "# Cities\n",
        "graph = {\n",
        "    \"Madrid\": [(\"Barcelona\", 98, 2.5), (\"Paris\", 380, 3.75)],\n",
        "    \"Barcelona\": [(\"Madrid\", 98, 2.5), (\"Lyon\", 320, 3.33), (\"Paris\", 400, 6.5)],\n",
        "    \"Lyon\": [(\"Barcelona\", 320, 3.33), (\"Milan\", 180, 2.93), (\"Paris\", 185, 1.87)],\n",
        "    \"Paris\": [(\"Madrid\", 380, 3.75), (\"Barcelona\", 400, 6.5), (\"Lyon\", 185, 1.87),\n",
        "              (\"Frankfurt\", 345, 8.0), (\"Brusseles\", 80, 1.37), (\"London\", 98, 2.16)],\n",
        "    \"Milan\": [(\"Lyon\", 180, 2.93), (\"Rome\", 125, 2.8), (\"Frankfurt\", 240, 7.57)],\n",
        "    \"Rome\": [(\"Milan\", 125, 2.8)],\n",
        "    \"Frankfurt\": [(\"Milan\", 240, 7.57), (\"Berlin\", 125, 3.87), (\"Cologne\", 40, 2.0), (\"Paris\", 345, 8.0)],\n",
        "    \"Berlin\": [(\"Frankfurt\", 125, 3.87), (\"Amsterdam\", 235, 6.07)],\n",
        "    \"Amsterdam\": [(\"Berlin\", 235, 6.87), (\"Cologne\", 40, 2.0), (\"Brusseles\", 48, 1.75)],\n",
        "    \"Brusseles\": [(\"Paris\", 80, 1.37), (\"Amsterdam\", 48, 1.75)],\n",
        "    \"Cologne\": [(\"Frankfurt\", 40, 2.0), (\"Amsterdam\", 40, 2.0)],\n",
        "    \"London\": [(\"Paris\", 98, 2.16)]\n",
        "}\n",
        "\n",
        "start_city = \"Amsterdam\"\n",
        "max_cost = 72  # Max cost\n",
        "max_time = 72  # Max hours\n",
        "shortest_path, shortest_cost, total_time = travelling_salesman_solver(graph, start_city, max_cost, max_time)\n",
        "\n",
        "print(\"Shortest path:\", shortest_path)\n",
        "print(\"Total cost:\", shortest_cost)\n",
        "print(\"Total time:\", total_time)"
      ],
      "metadata": {
        "colab": {
          "base_uri": "https://localhost:8080/"
        },
        "id": "Vi9LznE5r-mY",
        "outputId": "9d877425-3351-4683-aa6c-c2f9a06e70bf"
      },
      "execution_count": 17,
      "outputs": [
        {
          "output_type": "stream",
          "name": "stdout",
          "text": [
            "Shortest path: ['Amsterdam', 'Madrid', 'Lyon', 'Rome', 'Barcelona', 'Milan', 'Paris', 'Berlin', 'Brusseles', 'Cologne', 'London', 'Frankfurt', 'Amsterdam']\n",
            "Total cost: 2258\n",
            "Total time: 54.5\n"
          ]
        }
      ]
    },
    {
      "cell_type": "code",
      "source": [],
      "metadata": {
        "id": "wXjchwCpklhW"
      },
      "execution_count": null,
      "outputs": []
    }
  ]
}